{
 "cells": [
  {
   "attachments": {},
   "cell_type": "markdown",
   "metadata": {},
   "source": [
    "Load All the Initial Python Modules\n",
    " - mm_astra (multi-modal with astra backend) is the core component that performs the GPU-tomography reconstuctions"
   ]
  },
  {
   "cell_type": "code",
   "execution_count": null,
   "metadata": {},
   "outputs": [],
   "source": [
    "import Utils.mm_astra as mm_astra\n",
    "import Utils.pytvlib as pytvlib\n",
    "import matplotlib.pyplot as plt\n",
    "from tqdm import tqdm\n",
    "import numpy as np\n",
    "import h5py"
   ]
  },
  {
   "cell_type": "code",
   "execution_count": null,
   "metadata": {},
   "outputs": [],
   "source": [
    "# Auxilary Function to Visualize Slices of the Phantom Object or Reconstruction\n",
    "def display_recon_slices(inVolume):\n",
    "\n",
    "    fig, ax = plt.subplots(1,3,figsize=(25,25))\n",
    "    ax = ax.flatten()\n",
    "    ax[0].imshow(inVolume[127,],cmap='gray'); ax[0].axis('off')\n",
    "    ax[1].imshow(inVolume[:,128,:],cmap='gray'); ax[1].axis('off')\n",
    "    ax[2].imshow(inVolume[:,:,83],cmap='gray'); ax[2].axis('off')"
   ]
  },
  {
   "attachments": {},
   "cell_type": "markdown",
   "metadata": {},
   "source": [
    "#### Reading Multi-Modal Chemical Tilt Series Data\n",
    "\n",
    "Let's read the chemical tilt series from the Au-Fe $_3$ O $_4$ dataset. The EELS chemical maps are already pre-processed and aligned with the [projection matching method](https://github.com/jtschwar/projection_refinement). We can use mm_astra to handle the chemical dataset as a single variable to easily create reconstructions with conventional and state-of-the-art algorithms"
   ]
  },
  {
   "cell_type": "code",
   "execution_count": null,
   "metadata": {},
   "outputs": [],
   "source": []
  }
 ],
 "metadata": {
  "language_info": {
   "name": "python"
  },
  "orig_nbformat": 4
 },
 "nbformat": 4,
 "nbformat_minor": 2
}
