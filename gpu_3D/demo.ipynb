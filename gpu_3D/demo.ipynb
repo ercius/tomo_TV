{
 "cells": [
  {
   "cell_type": "markdown",
   "metadata": {},
   "source": [
    "Load All the Initial Python Modules\n",
    " - astra_ctvlib is the core component that performs the GPU-tomography reconstuctions"
   ]
  },
  {
   "cell_type": "code",
   "execution_count": null,
   "metadata": {},
   "outputs": [],
   "source": [
    "import Utils.astra_ctvlib as astra_ctvlib\n",
    "import Utils.pytvlib as pytvlib\n",
    "import matplotlib.pyplot as plt\n",
    "from tqdm import tqdm\n",
    "import numpy as np\n",
    "import h5py"
   ]
  },
  {
   "cell_type": "code",
   "execution_count": null,
   "metadata": {},
   "outputs": [],
   "source": [
    "# Auxilary Function to Visualize Slices of the Phantom Object or Reconstruction\n",
    "\n",
    "def display_recon_slices(inVolume):\n",
    "\n",
    "    fig, ax = plt.subplots(1,3,figsize=(25,25))\n",
    "    ax = ax.flatten()\n",
    "    ax[0].imshow(inVolume[:,],cmap='gray'); ax[0].axis('off')\n",
    "    ax[1].imshow(inVolume[:,],cmap='gray'); ax[1].axis('off')\n",
    "    ax[2].imshow(inVolume[:,],cmap='gray'); ax[2].axis('off')"
   ]
  },
  {
   "cell_type": "markdown",
   "metadata": {},
   "source": [
    "### Simulating Projections "
   ]
  },
  {
   "cell_type": "markdown",
   "metadata": {},
   "source": [
    "Load the Input Dataset (commonly referered to as Tilt Series)\n",
    "\n",
    "For this demo we'll show how we can use tomo_TV to generate these projections images from an input volume. \n",
    "\n",
    "For experimental reconstructions, skip this step and go straight to the reconstruction portion. "
   ]
  },
  {
   "cell_type": "code",
   "execution_count": null,
   "metadata": {},
   "outputs": [],
   "source": [
    "# Load the Original Volume\n",
    "file = h5py.File('STO_nanocubes.h5','r')\n",
    "original_volume = file['STO'][:]\n",
    "file.close()\n",
    "\n",
    "# Read Dimensions of Test Object\n",
    "(Nslice, Nray, _) = original_volume.shape\n",
    "# In cases where projection images aren't square: Nslice != Nray\n",
    "\n",
    "# Visualize Slices of the Phantom Object\n",
    "fig, ax = plt.subplots(1,3,figsize=(25,25))\n",
    "ax = ax.flatten()\n",
    "ax[0].imshow(original_volume[:,])\n",
    "ax[1].imshow(original_volume[:,])\n",
    "ax[2].imshow(original_volume[:,])"
   ]
  },
  {
   "cell_type": "markdown",
   "metadata": {},
   "source": [
    "Before Accessing any of the tomography functionality, we have to initialize the core class and any sub-functions that we would like to interface with.\n",
    "\n",
    "To inialize this class we need to provide two parameters, \n",
    "1. The # of pixels of the projection images / volumes \n",
    "\n",
    "2. The tilt angles we would like to simulate the experiment, or angles that projection images were collected. "
   ]
  },
  {
   "cell_type": "code",
   "execution_count": null,
   "metadata": {},
   "outputs": [],
   "source": [
    "# For this demo, we'll use conventional electron tomography experimental parameters: \n",
    "# ±70º with a +2º tilt increment. \n",
    "tiltAngles = np.arange(-70,72,2) \n",
    "\n",
    "# Initialize the C++ Object..\n",
    "tomo = astra_ctvlib.astra_ctvlib(Nslice, Nray, np.deg2rad(tiltAngles))\n",
    "\n",
    "# astra_ctvlib by default creates one 3D volume for the reconstruction, \n",
    "# any additional volumes needs to be externally intialized \n",
    "# (this is to save memory consumption)\n",
    "tomo.initialize_initial_volume()"
   ]
  },
  {
   "cell_type": "code",
   "execution_count": null,
   "metadata": {},
   "outputs": [],
   "source": [
    "# Let's pass the volume from python to C++  \n",
    "for s in range(Nslice):\n",
    "    tomo.set_original_volume(original_volume[s,:,:],s)\n",
    "\n",
    "# Now Let's Create the Projection Images\n",
    "tomo.create_projections()\n",
    "\n",
    "# Optional: Apply poisson noise to volume.\n",
    "SNR = 10\n",
    "if SNR != 0: tomo.poisson_noise(SNR)\n",
    "\n",
    "# Return the projections to Python\n",
    "Nangles = tiltAngles.shape[0]\n",
    "tiltSeries = np.zeros([Nslice, Nray, Nangles],dtype=np.float32)\n",
    "projections = tomo.get_projections()\n",
    "\n",
    "for i in range(Nangles):\n",
    "    tiltSeries[:,:,i] = projections[:,Nray*i:Nray*(i+1)]\n",
    "\n",
    "# Visualize Tilt Series\n",
    "plt.figure(figsize=(25,25))\n",
    "fig, ax = plt.subplots(1,3,figsize=(25,25))\n",
    "ax = ax.flatten()\n",
    "for j in range(3): ax[j].imshow(tiltSeries[:,:,j],cmap='gray'); ax[j].axis('off'); ax[j].title('Tilt Angle: ', tiltAngles[j])"
   ]
  },
  {
   "cell_type": "markdown",
   "metadata": {},
   "source": [
    "### Tomography Recontructions"
   ]
  },
  {
   "cell_type": "markdown",
   "metadata": {},
   "source": [
    "Now that we have a sample tilt series, let's actually reconstruct the data and see how it compares to the ground truth"
   ]
  },
  {
   "cell_type": "code",
   "execution_count": null,
   "metadata": {},
   "outputs": [],
   "source": [
    "# We have quite a few algorithms to choose from, for simplicitiy \n",
    "# let's start off with FBP\n",
    "\n",
    "# Specify # of iterations for the algorith to run\n",
    "Niter = 150\n",
    "\n",
    "tomo.initialize_FBP()\n",
    "\n",
    "# Main Loop\n",
    "tomo.FBP()\n",
    "\n",
    "filter = 'ram-lak'\n",
    "tomo.initialize_FBP(filter)\n",
    "\n",
    "# Reconstruct\n",
    "tomo.FBP()\n",
    "    \n",
    "# Return the Reconstruction to Python\n",
    "recon = np.zeros([Nslice,Nray,Nray],dtype=np.float32)\n",
    "for s in range(Nslice):\n",
    "    recon[s,] = tomo.get_recon(s)\n",
    "    \n",
    "# Visualize Slices of the Phantom Object\n",
    "plt.figure()"
   ]
  },
  {
   "cell_type": "markdown",
   "metadata": {},
   "source": [
    "Oof, as expected FBP is terrible. Let's now try an iterative algorithm like SIRT. "
   ]
  },
  {
   "cell_type": "code",
   "execution_count": null,
   "metadata": {},
   "outputs": [],
   "source": [
    "tomo.initialize_SIRT()\n",
    "\n",
    "# Main Loop\n",
    "for i in tqdm(range(Niter)):\n",
    "    tomo.SIRT()\n",
    "    \n",
    "# Return the Reconstruction to Python\n",
    "recon = np.zeros([Nslice,Nray,Nray],dtype=np.float32)\n",
    "for s in range(Nslice):\n",
    "    recon[s,] = tomo.get_recon(s)\n",
    "    \n",
    "# Visualize Slices of the Phantom Object\n",
    "plt.figure()"
   ]
  },
  {
   "cell_type": "markdown",
   "metadata": {},
   "source": [
    "Wow! So much better. We can also add regularization and try clean up the reconstructions further"
   ]
  }
 ],
 "metadata": {
  "kernelspec": {
   "display_name": "Python 3.7.12 64-bit",
   "language": "python",
   "name": "python3"
  },
  "language_info": {
   "name": "python",
   "version": "3.7.12"
  },
  "orig_nbformat": 4,
  "vscode": {
   "interpreter": {
    "hash": "7a792fcb311f9eb9f3c1b942a8c87ada8484712b89b670347c16a1088e0a1f69"
   }
  }
 },
 "nbformat": 4,
 "nbformat_minor": 2
}
